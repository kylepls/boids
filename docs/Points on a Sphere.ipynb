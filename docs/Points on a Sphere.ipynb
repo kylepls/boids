{
 "cells": [
  {
   "cell_type": "code",
   "execution_count": 2,
   "metadata": {},
   "outputs": [],
   "source": [
    "# Fibonacci Sphere"
   ]
  },
  {
   "cell_type": "code",
   "execution_count": 1,
   "metadata": {
    "execution": {
     "iopub.execute_input": "2020-11-09T21:07:26.263Z",
     "iopub.status.busy": "2020-11-09T21:07:26.261Z",
     "iopub.status.idle": "2020-11-09T21:07:26.526Z",
     "shell.execute_reply": "2020-11-09T21:07:26.533Z"
    },
    "jupyter": {
     "outputs_hidden": false,
     "source_hidden": false
    },
    "nteract": {
     "transient": {
      "deleting": false
     }
    }
   },
   "outputs": [
    {
     "data": {
      "application/vnd.jupyter.widget-view+json": {
       "model_id": "3c6a45f006814bd088bd8d4ed193f72e",
       "version_major": 2,
       "version_minor": 0
      },
      "text/plain": [
       "VBox(children=(Figure(animation=200.0, camera=PerspectiveCamera(fov=46.0, position=(0.0, 0.0, 2.0), projection…"
      ]
     },
     "metadata": {},
     "output_type": "display_data"
    }
   ],
   "source": [
    "from numpy import pi, cos, sin, arccos, zeros, arange\n",
    "import ipyvolume as ipv\n",
    "\n",
    "num_pts = 100\n",
    "pts = zeros((num_pts, num_pts, 3))\n",
    "for i in arange(0, num_pts):\n",
    "  index = i + 0.5\n",
    "  phi = arccos(1-2*index/num_pts)\n",
    "  theta = pi * (1+5**0.5)*index\n",
    "  x,y,z = cos(theta) * sin(phi), cos(phi), -sin(theta) * sin(phi);\n",
    "  for j in range(i, num_pts):\n",
    "    pts[i,j,:] = [x,y,z]\n",
    "\n",
    "fig = ipv.figure()\n",
    "pts_plot = ipv.scatter(*pts[:].T, marker='sphere', size=3)\n",
    "ipv.animation_control(pts_plot)\n",
    "ipv.xyzlim(-1, 1)\n",
    "ipv.show()"
   ]
  },
  {
   "cell_type": "code",
   "execution_count": 2,
   "metadata": {},
   "outputs": [],
   "source": [
    "import ipyvolume.embed\n",
    "ipyvolume.embed.embed_html(\"fibonacci-spiral.html\", fig, offline=True)"
   ]
  }
 ],
 "metadata": {
  "kernel_info": {
   "name": "python3"
  },
  "kernelspec": {
   "display_name": "Python 3",
   "language": "python",
   "name": "python3"
  },
  "language_info": {
   "codemirror_mode": {
    "name": "ipython",
    "version": 3
   },
   "file_extension": ".py",
   "mimetype": "text/x-python",
   "name": "python",
   "nbconvert_exporter": "python",
   "pygments_lexer": "ipython3",
   "version": "3.9.2"
  },
  "nteract": {
   "version": "0.26.0"
  }
 },
 "nbformat": 4,
 "nbformat_minor": 1
}
