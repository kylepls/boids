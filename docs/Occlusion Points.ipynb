{
 "cells": [
  {
   "cell_type": "code",
   "execution_count": 1,
   "id": "median-cleveland",
   "metadata": {},
   "outputs": [
    {
     "data": {
      "application/vnd.jupyter.widget-view+json": {
       "model_id": "88a8ccfe0cff485e8abddbc60319ddd0",
       "version_major": 2,
       "version_minor": 0
      },
      "text/plain": [
       "VBox(children=(Figure(camera=PerspectiveCamera(fov=46.0, position=(0.0, 0.0, 2.0), projectionMatrix=(1.0, 0.0,…"
      ]
     },
     "metadata": {},
     "output_type": "display_data"
    }
   ],
   "source": [
    "import numpy as np\n",
    "import ipyvolume as ipv\n",
    "\n",
    "fig = ipv.figure(width=950, height=600)\n",
    "\n",
    "arr = np.array([\n",
    "    [0.286582, 0.257763, -0.922729],\n",
    "    [-0.171812, -0.888079, 0.426375],\n",
    "    [0.440764, -0.502089, -0.744066],\n",
    "    [-0.841007, -0.428818, -0.329882],\n",
    "    [-0.380213, -0.588038, -0.713898],\n",
    "    [-0.055393, -0.207160, -0.976738],\n",
    "    [-0.901510, -0.077811, 0.425706],\n",
    "    [-0.974593, 0.123830, -0.186643],\n",
    "    [0.208042, -0.524280, 0.825741],\n",
    "    [0.258429, -0.898570, -0.354663],\n",
    "    [-0.262118, 0.574475, -0.775418],\n",
    "    [0.735212, 0.551820, 0.393646],\n",
    "    [0.828700, -0.523923, -0.196877],\n",
    "    [0.788742, 0.005727, -0.614698],\n",
    "    [-0.696885, 0.649338, -0.304486],\n",
    "    [-0.625313, 0.082413, -0.776010],\n",
    "    [0.358696, 0.928723, 0.093864],\n",
    "    [0.188264, 0.628978, 0.754283],\n",
    "    [-0.495193, 0.294596, 0.817311],\n",
    "    [0.818889, 0.508670, -0.265851],\n",
    "    [0.027189, 0.057757, 0.997960],\n",
    "    [-0.188421, 0.961802, -0.198582],\n",
    "    [0.995439, 0.019982, 0.093282],\n",
    "    [-0.315254, -0.925345, -0.210596],\n",
    "    [0.411992, -0.877706, 0.244733],\n",
    "    [0.625857, 0.080059, 0.775818],\n",
    "    [-0.243839, 0.866185, 0.436194],\n",
    "    [-0.725464, -0.643645, 0.243768],\n",
    "    [0.766785, -0.430702, 0.475959],\n",
    "    [-0.446376, -0.391664, 0.804580],\n",
    "    [-0.761557, 0.562508, 0.321895],\n",
    "    [0.344460, 0.753223, -0.560359],\n",
    "])\n",
    "\n",
    "ipv.scatter(arr[:,0], arr[:,1], arr[:,2])\n",
    "\n",
    "ipv.pylab.style.box_off()\n",
    "ipv.pylab.style.set_style_dark()\n",
    "\n",
    "ipv.xlim(-1, 1)\n",
    "ipv.ylim(-1,1)\n",
    "ipv.zlim(-1, 1)\n",
    "\n",
    "ipv.show()"
   ]
  },
  {
   "cell_type": "code",
   "execution_count": 2,
   "id": "quarterly-completion",
   "metadata": {},
   "outputs": [
    {
     "data": {
      "application/vnd.jupyter.widget-view+json": {
       "model_id": "1d84557d626c49e89c65ccb567fdf9e8",
       "version_major": 2,
       "version_minor": 0
      },
      "text/plain": [
       "VBox(children=(Figure(camera=PerspectiveCamera(fov=46.0, position=(0.0, 0.0, 2.0), projectionMatrix=(1.0, 0.0,…"
      ]
     },
     "metadata": {},
     "output_type": "display_data"
    },
    {
     "name": "stdout",
     "output_type": "stream",
     "text": [
      "vec4(0.080521, 0.975000, 0.207102, 1),\n",
      "vec4(-0.340748, 0.925000, -0.168124, 1),\n",
      "vec4(0.464828, 0.875000, -0.135314, 1),\n",
      "vec4(-0.293405, 0.825000, 0.483000, 1),\n",
      "vec4(-0.122912, 0.775000, -0.619893, 1),\n",
      "vec4(0.555134, 0.725000, 0.407678, 1),\n",
      "vec4(-0.733503, 0.675000, 0.079678, 1),\n",
      "vec4(0.515298, 0.625000, -0.586381, 1),\n",
      "vec4(0.016906, 0.575000, 0.817979, 1),\n",
      "vec4(-0.587756, 0.525000, -0.615563, 1),\n",
      "vec4(0.878019, 0.475000, 0.058803, 1),\n",
      "vec4(-0.706828, 0.425000, 0.565481, 1),\n",
      "vec4(0.142574, 0.375000, -0.915995, 1),\n",
      "vec4(0.523971, 0.325000, 0.787292, 1),\n",
      "vec4(-0.933440, 0.275000, -0.230356, 1),\n",
      "vec4(0.855229, 0.225000, -0.466860, 1),\n",
      "vec4(-0.318563, 0.175000, 0.931608, 1),\n",
      "vec4(-0.397433, 0.125000, -0.909077, 1),\n",
      "vec4(0.911724, 0.075000, 0.403899, 1),\n",
      "vec4(-0.947480, 0.025000, 0.318836, 1),\n"
     ]
    }
   ],
   "source": [
    "from numpy import pi, cos, sin, arccos, zeros, arange\n",
    "import ipyvolume as ipv\n",
    "\n",
    "num_pts = 40\n",
    "pts = zeros((num_pts, num_pts, 3))\n",
    "arr = zeros((num_pts, 3))\n",
    "for i in arange(0, num_pts):\n",
    "  index = i + 0.5\n",
    "  phi = arccos(1-2*index/num_pts)\n",
    "  theta = pi * (1+5**0.5)*index\n",
    "  x,y,z = cos(theta) * sin(phi), cos(phi), -sin(theta) * sin(phi);\n",
    "  arr[i,:] = [x,y,z]\n",
    "  for j in range(i, num_pts):\n",
    "    pts[i,j,:] = [x,y,z]\n",
    "    \n",
    "    \n",
    "arr = arr[np.dot(arr, [0,1,0]) > 0]\n",
    "\n",
    "fig = ipv.figure()\n",
    "ipv.scatter(arr[:,0], arr[:,1], arr[:,2])\n",
    "\n",
    "ipv.pylab.style.box_off()\n",
    "ipv.pylab.style.set_style_dark()\n",
    "\n",
    "ipv.xlim(-1, 1)\n",
    "ipv.ylim(-1,1)\n",
    "ipv.zlim(-1, 1)\n",
    "\n",
    "ipv.show()\n",
    "\n",
    "for i in range(0, len(arr)):\n",
    "    print(\"vec4(%f, %f, %f, 1),\" % (arr[i, 0], arr[i,1],arr[i,2]))"
   ]
  }
 ],
 "metadata": {
  "kernelspec": {
   "display_name": "Python 3",
   "language": "python",
   "name": "python3"
  },
  "language_info": {
   "codemirror_mode": {
    "name": "ipython",
    "version": 3
   },
   "file_extension": ".py",
   "mimetype": "text/x-python",
   "name": "python",
   "nbconvert_exporter": "python",
   "pygments_lexer": "ipython3",
   "version": "3.9.2"
  }
 },
 "nbformat": 4,
 "nbformat_minor": 5
}
