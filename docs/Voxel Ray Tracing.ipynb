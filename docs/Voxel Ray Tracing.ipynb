{
 "cells": [
  {
   "cell_type": "code",
   "execution_count": 1,
   "metadata": {},
   "outputs": [],
   "source": [
    "# http://www.cse.yorku.ca/~amana/research/grid.pdf"
   ]
  },
  {
   "cell_type": "code",
   "execution_count": 6,
   "metadata": {},
   "outputs": [],
   "source": [
    "import numpy as np\n",
    "from numpy.linalg import norm\n",
    "from numpy import array as arr\n",
    "from numpy import floor, sign\n",
    "\n",
    "import ipyvolume as ipv\n",
    "from numpy import max, min, floor\n",
    "\n",
    "Start = arr([49.66, 3.45, 18.56])\n",
    "Slope = arr([0.09, -0.30, -0.39])"
   ]
  },
  {
   "cell_type": "code",
   "execution_count": 3,
   "metadata": {},
   "outputs": [],
   "source": [
    "def box(o):\n",
    "    p = arr([\n",
    "        o.T,\n",
    "        o.T + [0,0,1],\n",
    "        o.T + [1,0,1],\n",
    "        o.T + [1,0,0],\n",
    "        o.T + [0,0,0],\n",
    "        o.T + [0,1,0],\n",
    "        o.T + [0,1,1],\n",
    "        o.T + [0,0,1],\n",
    "        o.T + [0,1,1],\n",
    "        o.T + [1,1,1],\n",
    "        o.T + [1,0,1],\n",
    "        o.T + [1,1,1],\n",
    "        o.T + [1,1,0],\n",
    "        o.T + [1,0,0],\n",
    "        o.T + [1,1,0],\n",
    "        o.T + [0,1,0],\n",
    "    ]).T\n",
    "    ipv.plot(*p)"
   ]
  },
  {
   "cell_type": "code",
   "execution_count": 7,
   "metadata": {},
   "outputs": [
    {
     "data": {
      "application/vnd.jupyter.widget-view+json": {
       "model_id": "9b6cdcc8c9714baa965e6cd9f8c05221",
       "version_major": 2,
       "version_minor": 0
      },
      "text/plain": [
       "VBox(children=(Figure(camera=PerspectiveCamera(fov=46.0, position=(0.0, 0.0, 2.0), projectionMatrix=(1.0, 0.0,…"
      ]
     },
     "metadata": {},
     "output_type": "display_data"
    }
   ],
   "source": [
    "def sign0(x): return 1 if (x > 0) else 0\n",
    "\n",
    "def transverse(U, V):\n",
    "    V = V/norm(V)\n",
    "    X, Y, Z = floor(U[0]), floor(U[1]), floor(U[2])\n",
    "    dx, dy, dz = V[0], V[1], V[2]\n",
    "\n",
    "    stepX = sign(V[0])\n",
    "    stepY = sign(V[1])\n",
    "    stepZ = sign(V[2])\n",
    "\n",
    "    tDeltaX = 1/abs(dx) if (dx != 0) else 1e4\n",
    "    tDeltaY = 1/abs(dy) if (dy != 0) else 1e4\n",
    "    tDeltaZ = 1/abs(dz) if (dz != 0) else 1e4\n",
    "    \n",
    "    tMaxX = (sign0(dx) + sign(dx) * (X-U[0])) * tDeltaX if (dx != 0) else 1e4\n",
    "    tMaxY = (sign0(dy) + sign(dy) * (Y-U[1])) * tDeltaY if (dy != 0) else 1e4\n",
    "    tMaxZ = (sign0(dz) + sign(dz) * (Z-U[2])) * tDeltaZ if (dz != 0) else 1e4\n",
    "    \n",
    "    out = [arr([X,Y,Z])]\n",
    "    for i in range(0, 3):\n",
    "        if tMaxX < tMaxY:\n",
    "            if tMaxX < tMaxZ:\n",
    "                X += stepX\n",
    "                tMaxX += tDeltaX\n",
    "            else:\n",
    "                Z += stepZ\n",
    "                tMaxZ += tDeltaZ\n",
    "        else:\n",
    "            if tMaxY < tMaxZ:\n",
    "                Y += stepY\n",
    "                tMaxY += tDeltaY\n",
    "            else:\n",
    "                Z += stepZ\n",
    "                tMaxZ += tDeltaZ\n",
    "        out.append(arr([X,Y,Z]))   \n",
    "    \n",
    "    return out\n",
    "\n",
    "ipv.clear()\n",
    "fig = ipv.figure(width=950, height=600)\n",
    "\n",
    "out = arr(transverse(Start, Slope))\n",
    "\n",
    "[box(o) for o in out]\n",
    "ipv.plot(*zip(Start, Start + Slope*15), color='blue')\n",
    "\n",
    "ipv.xlim(min(out, axis=0)[0]-1, max(out, axis=0)[0]+1)\n",
    "ipv.ylim(min(out, axis=0)[1]-1, max(out, axis=0)[1]+1)\n",
    "ipv.zlim(min(out, axis=0)[2]-1, max(out, axis=0)[2]+1)\n",
    "ipv.zlim(15.5, 18.5)\n",
    "ipv.ylim(1.5, 3.5)\n",
    "ipv.pylab.style.box_off()\n",
    "ipv.show()"
   ]
  },
  {
   "cell_type": "code",
   "execution_count": 5,
   "metadata": {},
   "outputs": [
    {
     "name": "stdout",
     "output_type": "stream",
     "text": [
      "Downloading https://unpkg.com/ipyvolume@0.5.2/dist/index.js: [==========] Finished\n",
      "Downloading https://cdnjs.cloudflare.com/ajax/libs/require.js/2.3.4/require.min.js: 0.01Mb/10 [==========] Finished\n",
      "Downloading https://unpkg.com/@jupyter-widgets/html-manager@^0.20.0/dist/embed-amd.js: [==========] Finished\n",
      "Downloading https://fontawesome.com/v4.7.0/assets/font-awesome-4.7.0.zip: 0.64Mb/10 [==========] Finished\n"
     ]
    }
   ],
   "source": [
    "import ipyvolume.embed\n",
    "ipyvolume.embed.embed_html(\"voxel raycast.html\", fig, offline=True)"
   ]
  }
 ],
 "metadata": {
  "kernelspec": {
   "display_name": "Python 3",
   "language": "python",
   "name": "python3"
  },
  "language_info": {
   "codemirror_mode": {
    "name": "ipython",
    "version": 3
   },
   "file_extension": ".py",
   "mimetype": "text/x-python",
   "name": "python",
   "nbconvert_exporter": "python",
   "pygments_lexer": "ipython3",
   "version": "3.9.2"
  }
 },
 "nbformat": 4,
 "nbformat_minor": 2
}
